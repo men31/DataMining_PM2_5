{
 "cells": [
  {
   "cell_type": "code",
   "execution_count": 19,
   "metadata": {},
   "outputs": [],
   "source": [
    "import numpy as np\n",
    "import matplotlib.pyplot as plt\n",
    "import pandas as pd\n",
    "import os\n",
    "from datetime import datetime"
   ]
  },
  {
   "cell_type": "code",
   "execution_count": 20,
   "metadata": {},
   "outputs": [],
   "source": [
    "%run Data_Cleaning_Utils.ipynb"
   ]
  },
  {
   "cell_type": "code",
   "execution_count": 21,
   "metadata": {},
   "outputs": [],
   "source": [
    "data_path = './PM2.5/'\n",
    "selected_years = [2017, 2018, 2019, 2020, 2021, 2022]\n",
    "os.listdir(data_path)\n",
    "data_name_lst = [name for name in os.listdir(data_path) if name.startswith('PM2.5')]\n",
    "selected_files = []\n",
    "for i in selected_years:\n",
    "    for j in data_name_lst:\n",
    "        if str(i) in j:\n",
    "            selected_files.append(j)\n",
    "save_path = './Final_Data/'"
   ]
  },
  {
   "cell_type": "code",
   "execution_count": 22,
   "metadata": {},
   "outputs": [
    {
     "name": "stdout",
     "output_type": "stream",
     "text": [
      "--------Before Filling--------\n",
      "2017 Num: 2359 Failed\n",
      "2018 Num: 7905 Failed\n",
      "2019 Num: 2893 Failed\n",
      "2020 Num: 679 Failed\n",
      "2021 Num: 1044 Failed\n",
      "2022 Num: 2711 Failed\n",
      "-------------------------------------\n",
      "--------After Fill by their record--------\n",
      "2017 Num: 2356 Failed\n",
      "2018 Num: 7449 Failed\n",
      "2019 Num: 2501 Failed\n",
      "2020 Num: 207 Failed\n",
      "2021 Num: 719 Failed\n",
      "2022 Num: 1844 Failed\n",
      "-------------------------------------\n",
      "--------After Fill by provide--------\n",
      "2017 Num: 1342 Failed\n",
      "2018 Num: 3136 Failed\n",
      "2019 Num: 839 Failed\n",
      "2020 Num: 191 Failed\n",
      "2021 Num: 719 Failed\n",
      "2022 Num: 1840 Failed\n",
      "-------------------------------------\n",
      "--------After Fill by sector--------\n",
      "2017 Num: 312 Failed\n",
      "2018 Num: 3 Failed\n",
      "2019 Num: 0 Pass\n",
      "2020 Num: 0 Pass\n",
      "2021 Num: 0 Pass\n",
      "2022 Num: 0 Pass\n",
      "-------------------------------------\n",
      "--------After interpolating--------\n",
      "2017 Num: 160 Failed\n",
      "2018 Num: 0 Pass\n",
      "2019 Num: 0 Pass\n",
      "2020 Num: 0 Pass\n",
      "2021 Num: 0 Pass\n",
      "2022 Num: 0 Pass\n",
      "-------------------------------------\n"
     ]
    }
   ],
   "source": [
    "PM_data = load_selected_PM_data(data_path, selected_files)\n",
    "print('--------Before Filling--------')\n",
    "check_dict = Check_for_NonMissing(PM_data)\n",
    "print('-------------------------------------')\n",
    "\n",
    "# Fill nan by their own record.\n",
    "fill_nan_year = Fill_NaN_YearRecord(data_path, selected_years)\n",
    "PM_data_0 = fill_nan_year.main()\n",
    "print('--------After Fill by their record--------')\n",
    "check_dict = Check_for_NonMissing(PM_data_0)\n",
    "print('-------------------------------------')\n",
    "\n",
    "# Fill nan by the data from same provide.\n",
    "label_provide_df = made_provide_station(selected_files, data_path)\n",
    "fill_nan_provide = Fill_NaN_Label(data_path, selected_years, label_provide_df)\n",
    "PM_data_1 = fill_nan_provide.main(PM_data=PM_data_0)\n",
    "print('--------After Fill by provide--------')\n",
    "check_dict = Check_for_NonMissing(PM_data_1)\n",
    "print('-------------------------------------')\n",
    "\n",
    "# Fill nan by the data from same sector of thailand.\n",
    "meteorology_label = meteorology_labeling()\n",
    "label_df = made_sector_station(selected_files, data_path, meteorology_label)\n",
    "fill_nan_provide = Fill_NaN_Label(data_path, selected_years, label_df)\n",
    "# fill_nan_provide.save_name = 'FillByAll3'\n",
    "PM_data_2 = fill_nan_provide.main(PM_data=PM_data_1)\n",
    "print('--------After Fill by sector--------')\n",
    "check_dict = Check_for_NonMissing(PM_data_2)\n",
    "print('-------------------------------------')\n",
    "\n",
    "# Fill nan by interpolation between themselves data\n",
    "fill_nan_inter = Fill_NaN_Interpolation(data_path, selected_files)\n",
    "fill_nan_inter.save_name = 'FillByAll4'\n",
    "fill_nan_inter.inter_method = 'from_derivatives'\n",
    "PM_data_3 = fill_nan_inter.main(PM_data=PM_data_2, save_path=save_path)\n",
    "# PM_data_3 = fill_nan_inter.main(PM_data=PM_data_2)\n",
    "print('--------After interpolating--------')\n",
    "check_dict = Check_for_NonMissing(PM_data_3)\n",
    "print('-------------------------------------')"
   ]
  },
  {
   "cell_type": "code",
   "execution_count": 23,
   "metadata": {},
   "outputs": [
    {
     "data": {
      "text/plain": [
       "0      NaN\n",
       "1      NaN\n",
       "2      NaN\n",
       "3     37.0\n",
       "4     42.0\n",
       "5     37.0\n",
       "6     50.0\n",
       "7      NaN\n",
       "8      NaN\n",
       "9      NaN\n",
       "10    40.0\n",
       "11    57.0\n",
       "12    45.0\n",
       "13    36.0\n",
       "14     NaN\n",
       "15     NaN\n",
       "16    26.0\n",
       "17     NaN\n",
       "18    37.0\n",
       "19    24.0\n",
       "Name: 46T, dtype: float64"
      ]
     },
     "execution_count": 23,
     "metadata": {},
     "output_type": "execute_result"
    }
   ],
   "source": [
    "year = '2017'\n",
    "station = '46T'\n",
    "\n",
    "PM_data[year][station].head(20)"
   ]
  },
  {
   "cell_type": "code",
   "execution_count": 24,
   "metadata": {},
   "outputs": [
    {
     "data": {
      "text/plain": [
       "0      NaN\n",
       "1      NaN\n",
       "2      NaN\n",
       "3     37.0\n",
       "4     42.0\n",
       "5     37.0\n",
       "6     50.0\n",
       "7      NaN\n",
       "8      NaN\n",
       "9      NaN\n",
       "10    40.0\n",
       "11    57.0\n",
       "12    45.0\n",
       "13    36.0\n",
       "14     NaN\n",
       "15     NaN\n",
       "16    26.0\n",
       "17     NaN\n",
       "18    37.0\n",
       "19    24.0\n",
       "Name: 46T, dtype: float64"
      ]
     },
     "execution_count": 24,
     "metadata": {},
     "output_type": "execute_result"
    }
   ],
   "source": [
    "PM_data_0[year][station].head(20)"
   ]
  },
  {
   "cell_type": "code",
   "execution_count": 25,
   "metadata": {},
   "outputs": [
    {
     "data": {
      "text/plain": [
       "0      NaN\n",
       "1      NaN\n",
       "2      NaN\n",
       "3     37.0\n",
       "4     42.0\n",
       "5     37.0\n",
       "6     50.0\n",
       "7      NaN\n",
       "8      NaN\n",
       "9      NaN\n",
       "10    40.0\n",
       "11    57.0\n",
       "12    45.0\n",
       "13    36.0\n",
       "14     NaN\n",
       "15     NaN\n",
       "16    26.0\n",
       "17     NaN\n",
       "18    37.0\n",
       "19    24.0\n",
       "Name: 46T, dtype: float64"
      ]
     },
     "execution_count": 25,
     "metadata": {},
     "output_type": "execute_result"
    }
   ],
   "source": [
    "PM_data_1[year][station].head(20)"
   ]
  },
  {
   "cell_type": "code",
   "execution_count": 26,
   "metadata": {},
   "outputs": [
    {
     "data": {
      "text/plain": [
       "0      NaN\n",
       "1      NaN\n",
       "2      NaN\n",
       "3     37.0\n",
       "4     42.0\n",
       "5     37.0\n",
       "6     50.0\n",
       "7      NaN\n",
       "8      NaN\n",
       "9      NaN\n",
       "10    40.0\n",
       "11    57.0\n",
       "12    45.0\n",
       "13    36.0\n",
       "14     NaN\n",
       "15     NaN\n",
       "16    26.0\n",
       "17     NaN\n",
       "18    37.0\n",
       "19    24.0\n",
       "Name: 46T, dtype: float64"
      ]
     },
     "execution_count": 26,
     "metadata": {},
     "output_type": "execute_result"
    }
   ],
   "source": [
    "PM_data_2[year][station].head(20)"
   ]
  },
  {
   "cell_type": "code",
   "execution_count": 27,
   "metadata": {},
   "outputs": [
    {
     "data": {
      "text/plain": [
       "0           NaN\n",
       "1           NaN\n",
       "2           NaN\n",
       "3     37.000000\n",
       "4     42.000000\n",
       "5     37.000000\n",
       "6     50.000000\n",
       "7     47.500000\n",
       "8     45.000000\n",
       "9     42.500000\n",
       "10    40.000000\n",
       "11    57.000000\n",
       "12    45.000000\n",
       "13    36.000000\n",
       "14    32.666667\n",
       "15    29.333333\n",
       "16    26.000000\n",
       "17    31.500000\n",
       "18    37.000000\n",
       "19    24.000000\n",
       "Name: 46T, dtype: float64"
      ]
     },
     "execution_count": 27,
     "metadata": {},
     "output_type": "execute_result"
    }
   ],
   "source": [
    "PM_data_3[year][station].head(20)"
   ]
  },
  {
   "cell_type": "code",
   "execution_count": null,
   "metadata": {},
   "outputs": [],
   "source": []
  }
 ],
 "metadata": {
  "kernelspec": {
   "display_name": "base",
   "language": "python",
   "name": "python3"
  },
  "language_info": {
   "codemirror_mode": {
    "name": "ipython",
    "version": 3
   },
   "file_extension": ".py",
   "mimetype": "text/x-python",
   "name": "python",
   "nbconvert_exporter": "python",
   "pygments_lexer": "ipython3",
   "version": "3.9.13"
  },
  "orig_nbformat": 4,
  "vscode": {
   "interpreter": {
    "hash": "263930470851f494f0ed2879c35b57985588df20f9e529b86e97dd5eb9ddc466"
   }
  }
 },
 "nbformat": 4,
 "nbformat_minor": 2
}
