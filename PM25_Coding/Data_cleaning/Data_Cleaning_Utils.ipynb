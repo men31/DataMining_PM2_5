{
 "cells": [
  {
   "cell_type": "code",
   "execution_count": 1,
   "metadata": {},
   "outputs": [],
   "source": [
    "import numpy as np\n",
    "import matplotlib.pyplot as plt\n",
    "import pandas as pd\n",
    "from datetime import datetime\n",
    "import os"
   ]
  },
  {
   "attachments": {},
   "cell_type": "markdown",
   "metadata": {},
   "source": [
    "### Load Data"
   ]
  },
  {
   "cell_type": "code",
   "execution_count": null,
   "metadata": {},
   "outputs": [],
   "source": [
    "def load_PM_data(data_path):\n",
    "    PM_data = {}\n",
    "    data_name_lst = [name for name in os.listdir(data_path) if name.startswith('PM2.5')]\n",
    "    for name in data_name_lst:\n",
    "        a_df = pd.read_excel(os.path.join(data_path, name), sheet_name='PM2.5')\n",
    "        PM_data[name.split('_')[1]] = a_df\n",
    "    return PM_data\n",
    "\n",
    "def load_selected_PM_data(data_path, selected_data_name):\n",
    "    PM_data = {}\n",
    "    data_name_lst = selected_data_name\n",
    "    for name in data_name_lst:\n",
    "        a_df = pd.read_excel(os.path.join(data_path, name), sheet_name='PM2.5')\n",
    "        PM_data[name.split('_')[1]] = a_df\n",
    "    return PM_data"
   ]
  },
  {
   "attachments": {},
   "cell_type": "markdown",
   "metadata": {},
   "source": [
    "### Observe the data"
   ]
  },
  {
   "cell_type": "code",
   "execution_count": null,
   "metadata": {},
   "outputs": [],
   "source": [
    "def check_new_station(name_lst, data_path, selected_data_name):\n",
    "    updates = []\n",
    "    for idx in range(len(name_lst)-1):\n",
    "        a_update = []\n",
    "        df0 = pd.read_excel(os.path.join(data_path, selected_data_name[idx]), sheet_name='station_detail')['รหัสสถานี'].to_list()\n",
    "        df1 = pd.read_excel(os.path.join(data_path, selected_data_name[idx+1]), sheet_name='station_detail')['รหัสสถานี'].to_list()\n",
    "        for id_station in df1:\n",
    "            if id_station not in df0:\n",
    "                a_update.append(id_station)\n",
    "        updates.append(a_update)\n",
    "    return updates\n",
    "\n",
    "def check_station(ref_station, variable_station):\n",
    "    ref_columns = [1]*len(ref_station)\n",
    "    for idx, station_name in enumerate(ref_station):\n",
    "        if station_name not in variable_station:\n",
    "            ref_columns[idx] = 0\n",
    "    return ref_columns\n",
    "\n",
    "def made_locate_station(ref_name, var_name_lst, data_path):\n",
    "    locate_lst = []\n",
    "    ref_station= pd.read_excel(os.path.join(data_path, ref_name), sheet_name='station_detail')['รหัสสถานี'].to_list()\n",
    "    for idx in range(len(var_name_lst)):\n",
    "        variable_station = pd.read_excel(os.path.join(data_path, var_name_lst[idx]), sheet_name='station_detail')['รหัสสถานี'].to_list()\n",
    "        locate_lst.append(check_station(ref_station, variable_station))\n",
    "    return np.array(locate_lst), ref_station"
   ]
  },
  {
   "attachments": {},
   "cell_type": "markdown",
   "metadata": {},
   "source": [
    "### Fill nan on each station by thier recording"
   ]
  },
  {
   "cell_type": "code",
   "execution_count": null,
   "metadata": {},
   "outputs": [],
   "source": [
    "class Fill_NaN_YearRecord:\n",
    "\n",
    "    def __init__(self, data_path, selected_years):\n",
    "        self.data_path = data_path\n",
    "        self.selected_years = selected_years\n",
    "        files_name_lst = [name for name in os.listdir(self.data_path) if name.startswith('PM2.5')] # Format PM2.5_(year)_.xlsx\n",
    "        self.selected_files = []\n",
    "        for y in self.selected_years:\n",
    "            for f in files_name_lst:\n",
    "                if str(y) in f:\n",
    "                    self.selected_files.append(f)\n",
    "        self.ref_file = self.selected_files[-1]\n",
    "\n",
    "        # Pre-Define Function Parameters\n",
    "        self.PM_data = None\n",
    "        self.establish_df = None \n",
    "\n",
    "    def made_establish_df(self):\n",
    "        locate_lst, ref_station = made_locate_station(self.ref_file, self.selected_files, self.data_path)\n",
    "        df = pd.DataFrame(locate_lst, columns=ref_station)\n",
    "        df_year = pd.DataFrame(self.selected_years, columns=['years'])\n",
    "        df = df_year.join(df)\n",
    "        df = df.loc[:,~df.columns.duplicated()].copy()\n",
    "        return df\n",
    "    \n",
    "    def match_year_station(self):\n",
    "        PM_data_work = self.PM_data.copy()\n",
    "        station_lst = self.establish_df.columns[1:]\n",
    "        stations_dict = {}\n",
    "        for idx_station, now_station in enumerate(station_lst):\n",
    "            year_station = self.establish_df['years'][self.establish_df[now_station] == 1].to_list()\n",
    "            merge_switch = 0\n",
    "            for a_year in year_station:\n",
    "                a_year_df = PM_data_work[f'{a_year}'][[now_station]].rename(columns={now_station:f'{a_year}'})\n",
    "                a_year_df['Date'] = PM_data_work[f'{a_year}']['Date'].apply(lambda x: datetime.strftime(x, '%m_%d'))\n",
    "                if merge_switch == 0:\n",
    "                    station_df = a_year_df\n",
    "                else:\n",
    "                    station_df = pd.merge(station_df, a_year_df, on='Date')\n",
    "                merge_switch += 1\n",
    "            stations_dict[now_station] = station_df\n",
    "        return stations_dict\n",
    "    \n",
    "    def main(self):\n",
    "        self.PM_data = load_selected_PM_data(self.data_path, self.selected_files)\n",
    "        self.establish_df = self.made_establish_df()\n",
    "        "
   ]
  }
 ],
 "metadata": {
  "kernelspec": {
   "display_name": "base",
   "language": "python",
   "name": "python3"
  },
  "language_info": {
   "codemirror_mode": {
    "name": "ipython",
    "version": 3
   },
   "file_extension": ".py",
   "mimetype": "text/x-python",
   "name": "python",
   "nbconvert_exporter": "python",
   "pygments_lexer": "ipython3",
   "version": "3.9.13"
  },
  "orig_nbformat": 4,
  "vscode": {
   "interpreter": {
    "hash": "263930470851f494f0ed2879c35b57985588df20f9e529b86e97dd5eb9ddc466"
   }
  }
 },
 "nbformat": 4,
 "nbformat_minor": 2
}
