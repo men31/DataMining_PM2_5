{
 "cells": [
  {
   "cell_type": "code",
   "execution_count": 49,
   "metadata": {},
   "outputs": [],
   "source": [
    "import numpy as np\n",
    "import matplotlib.pyplot as plt\n",
    "import pandas as pd\n",
    "import os"
   ]
  },
  {
   "cell_type": "code",
   "execution_count": 50,
   "metadata": {},
   "outputs": [],
   "source": [
    "data_path = './PM2.5/'\n",
    "year_scope = ['17', '18' ,'19', '20', '21', '22']\n",
    "os.listdir(data_path)\n",
    "data_name_lst = [name for name in os.listdir(data_path) if name.startswith('PM2.5')]"
   ]
  },
  {
   "cell_type": "code",
   "execution_count": 51,
   "metadata": {},
   "outputs": [],
   "source": [
    "# 2017 - 2022\n",
    "selected_data_name = data_name_lst[6:]"
   ]
  },
  {
   "cell_type": "code",
   "execution_count": 52,
   "metadata": {},
   "outputs": [],
   "source": [
    "df0 = pd.read_excel(os.path.join(data_path, selected_data_name[0]), sheet_name='station_detail')\n",
    "df1 = pd.read_excel(os.path.join(data_path, selected_data_name[1]), sheet_name='station_detail')"
   ]
  },
  {
   "cell_type": "code",
   "execution_count": 56,
   "metadata": {},
   "outputs": [
    {
     "data": {
      "text/html": [
       "<div>\n",
       "<style scoped>\n",
       "    .dataframe tbody tr th:only-of-type {\n",
       "        vertical-align: middle;\n",
       "    }\n",
       "\n",
       "    .dataframe tbody tr th {\n",
       "        vertical-align: top;\n",
       "    }\n",
       "\n",
       "    .dataframe thead th {\n",
       "        text-align: right;\n",
       "    }\n",
       "</style>\n",
       "<table border=\"1\" class=\"dataframe\">\n",
       "  <thead>\n",
       "    <tr style=\"text-align: right;\">\n",
       "      <th></th>\n",
       "      <th>รหัสสถานี</th>\n",
       "      <th>ชื่อสถานี</th>\n",
       "      <th>รายละเอียดจุดติดตั้งสถานี</th>\n",
       "    </tr>\n",
       "  </thead>\n",
       "  <tbody>\n",
       "    <tr>\n",
       "      <th>0</th>\n",
       "      <td>05T</td>\n",
       "      <td>แขวงบางนา เขตบางนา กทม.</td>\n",
       "      <td>กรมอุตุนิยมวิทยาบางนา</td>\n",
       "    </tr>\n",
       "    <tr>\n",
       "      <th>1</th>\n",
       "      <td>10T</td>\n",
       "      <td>แขวงคลองจั่น เขตบางกะปิ กทม.</td>\n",
       "      <td>เคหะชุมชนคลองจั่น</td>\n",
       "    </tr>\n",
       "    <tr>\n",
       "      <th>2</th>\n",
       "      <td>11T</td>\n",
       "      <td>แขวงดินแดง เขตดินแดง กทม.</td>\n",
       "      <td>สนามกีฬาการเคหะชุมชนห้วยขวาง</td>\n",
       "    </tr>\n",
       "    <tr>\n",
       "      <th>3</th>\n",
       "      <td>59T</td>\n",
       "      <td>แขวงพญาไท เขตพญาไท กทม.</td>\n",
       "      <td>กรมประชาสัมพันธ์</td>\n",
       "    </tr>\n",
       "    <tr>\n",
       "      <th>4</th>\n",
       "      <td>61T</td>\n",
       "      <td>แขวงพลับพลา เขตวังทองหลาง กทม.</td>\n",
       "      <td>โรงเรียนบดินทรเดชา (สิงห์ สิงหเสนี)</td>\n",
       "    </tr>\n",
       "  </tbody>\n",
       "</table>\n",
       "</div>"
      ],
      "text/plain": [
       "  รหัสสถานี                        ชื่อสถานี  \\\n",
       "0       05T          แขวงบางนา เขตบางนา กทม.   \n",
       "1       10T     แขวงคลองจั่น เขตบางกะปิ กทม.   \n",
       "2       11T        แขวงดินแดง เขตดินแดง กทม.   \n",
       "3       59T          แขวงพญาไท เขตพญาไท กทม.   \n",
       "4       61T   แขวงพลับพลา เขตวังทองหลาง กทม.   \n",
       "\n",
       "             รายละเอียดจุดติดตั้งสถานี  \n",
       "0                กรมอุตุนิยมวิทยาบางนา  \n",
       "1                    เคหะชุมชนคลองจั่น  \n",
       "2         สนามกีฬาการเคหะชุมชนห้วยขวาง  \n",
       "3                     กรมประชาสัมพันธ์  \n",
       "4  โรงเรียนบดินทรเดชา (สิงห์ สิงหเสนี)  "
      ]
     },
     "execution_count": 56,
     "metadata": {},
     "output_type": "execute_result"
    }
   ],
   "source": [
    "df1.head()"
   ]
  },
  {
   "cell_type": "code",
   "execution_count": 53,
   "metadata": {},
   "outputs": [
    {
     "data": {
      "text/plain": [
       "True"
      ]
     },
     "execution_count": 53,
     "metadata": {},
     "output_type": "execute_result"
    }
   ],
   "source": [
    "'05T' in df1['รหัสสถานี'].to_list()"
   ]
  },
  {
   "cell_type": "code",
   "execution_count": 54,
   "metadata": {},
   "outputs": [],
   "source": [
    "def check_new_station(name_lst):\n",
    "    updates = []\n",
    "    for idx in range(len(name_lst)-1):\n",
    "        a_update = []\n",
    "        df0 = pd.read_excel(os.path.join(data_path, selected_data_name[idx]), sheet_name='station_detail')['รหัสสถานี'].to_list()\n",
    "        df1 = pd.read_excel(os.path.join(data_path, selected_data_name[idx+1]), sheet_name='station_detail')['รหัสสถานี'].to_list()\n",
    "        for id_station in df1:\n",
    "            if id_station not in df0:\n",
    "                a_update.append(id_station)\n",
    "        updates.append(a_update)\n",
    "    return updates\n",
    "     "
   ]
  },
  {
   "cell_type": "code",
   "execution_count": 55,
   "metadata": {},
   "outputs": [
    {
     "name": "stdout",
     "output_type": "stream",
     "text": [
      "[['10T', '11T', '03T', '14T', '17T', '18T', '20T', '21T', '25T', '29T', '31T', '33T', '34T', '37T', '38T', '39T', '41T', '42T', '57T', '58T', '67T', '68T', '69T', '70T', '71T', '72T', '73T'], ['02T', '12T', '13T', '16T', '22T', '28T', '43T', '47T', '60T', '74T', '78T', '81T'], ['82T', '83T', '84T'], ['72T ', '85T', '86T', '87T', '88T', '89T', '90T', '91T', '92T', '93T'], ['99T', '100T', '72T', '101T', '102T', '100T', '94T', '95T', '96T', '97T', '98T']]\n"
     ]
    }
   ],
   "source": [
    "new_station = check_new_station(selected_data_name)\n",
    "print(new_station)  "
   ]
  },
  {
   "cell_type": "code",
   "execution_count": 60,
   "metadata": {},
   "outputs": [],
   "source": [
    "def check_station(ref_station, variable_station):\n",
    "    ref_columns = [1]*len(ref_station)\n",
    "    for idx, station_name in enumerate(ref_station):\n",
    "        if station_name not in variable_station:\n",
    "            ref_columns[idx] = 0\n",
    "    return ref_columns\n",
    "\n",
    "def made_locate_station(ref_name, var_name_lst):\n",
    "    locate_lst = []\n",
    "    ref_station= pd.read_excel(os.path.join(data_path, ref_name), sheet_name='station_detail')['รหัสสถานี'].to_list()\n",
    "    for idx in range(len(var_name_lst)):\n",
    "        variable_station = pd.read_excel(os.path.join(data_path, selected_data_name[idx]), sheet_name='station_detail')['รหัสสถานี'].to_list()\n",
    "        locate_lst.append(check_station(ref_station, variable_station))\n",
    "    return locate_lst"
   ]
  },
  {
   "cell_type": "code",
   "execution_count": 61,
   "metadata": {},
   "outputs": [],
   "source": [
    "locate_lst = made_locate_station(selected_data_name[-1], selected_data_name)"
   ]
  },
  {
   "cell_type": "code",
   "execution_count": 65,
   "metadata": {},
   "outputs": [
    {
     "data": {
      "text/plain": [
       "array([[0, 1, 0, 0, 0, 1, 1, 0, 1, 1, 1, 1, 1, 0, 0, 0, 1, 0, 0, 0, 1, 0,\n",
       "        0, 0, 1, 0, 1, 1, 0, 0, 0, 0, 1, 0, 0, 0, 0, 0, 0, 0, 0, 0, 0, 0,\n",
       "        1, 0, 0, 1, 0, 0, 0, 0, 1, 0, 0, 1, 1, 0, 0, 0, 1, 0, 0, 0, 0, 0,\n",
       "        1, 0, 0, 0, 1, 0, 0, 0, 0, 0, 0, 0, 0, 0, 1, 1, 1, 0, 1, 0, 0],\n",
       "       [0, 1, 1, 1, 0, 1, 1, 1, 1, 1, 1, 1, 1, 0, 1, 1, 1, 0, 0, 1, 1, 1,\n",
       "        0, 1, 1, 1, 1, 1, 0, 0, 0, 0, 1, 0, 1, 0, 0, 0, 0, 0, 0, 0, 0, 1,\n",
       "        1, 1, 0, 1, 1, 1, 0, 1, 1, 0, 0, 1, 1, 1, 1, 1, 1, 1, 1, 1, 1, 1,\n",
       "        1, 1, 1, 1, 1, 0, 0, 0, 0, 0, 0, 0, 1, 0, 1, 1, 1, 0, 1, 0, 0],\n",
       "       [1, 1, 1, 1, 1, 1, 1, 1, 1, 1, 1, 1, 1, 1, 1, 1, 1, 1, 1, 1, 1, 1,\n",
       "        1, 1, 1, 1, 1, 1, 0, 0, 0, 0, 1, 1, 1, 0, 0, 0, 0, 0, 0, 0, 1, 1,\n",
       "        1, 1, 1, 1, 1, 1, 1, 1, 1, 0, 0, 1, 1, 1, 1, 1, 1, 1, 1, 1, 1, 1,\n",
       "        1, 1, 1, 1, 1, 0, 0, 0, 0, 0, 0, 0, 1, 1, 1, 1, 1, 1, 1, 0, 0],\n",
       "       [1, 1, 1, 1, 1, 1, 1, 1, 1, 1, 1, 1, 1, 1, 1, 1, 1, 1, 1, 1, 1, 1,\n",
       "        1, 1, 1, 1, 1, 1, 1, 0, 0, 0, 1, 1, 1, 1, 1, 0, 0, 0, 0, 0, 1, 1,\n",
       "        1, 1, 1, 1, 1, 1, 1, 1, 1, 0, 0, 1, 1, 1, 1, 1, 1, 1, 1, 1, 1, 1,\n",
       "        1, 1, 1, 1, 1, 0, 0, 0, 0, 0, 0, 0, 1, 1, 1, 1, 1, 1, 1, 0, 0],\n",
       "       [1, 1, 1, 1, 1, 1, 1, 1, 1, 1, 1, 1, 1, 1, 1, 1, 1, 1, 1, 1, 1, 1,\n",
       "        1, 1, 1, 1, 1, 1, 1, 1, 0, 0, 1, 1, 0, 1, 1, 1, 1, 1, 0, 0, 1, 1,\n",
       "        1, 1, 1, 1, 1, 1, 1, 1, 1, 1, 0, 1, 1, 1, 1, 1, 1, 1, 1, 1, 1, 1,\n",
       "        1, 1, 1, 1, 1, 1, 1, 0, 0, 0, 0, 0, 1, 1, 1, 1, 1, 1, 1, 1, 1],\n",
       "       [1, 1, 1, 1, 1, 1, 1, 1, 1, 1, 1, 1, 1, 1, 1, 1, 1, 1, 1, 1, 1, 1,\n",
       "        1, 1, 1, 1, 1, 1, 1, 1, 1, 1, 1, 1, 1, 1, 1, 1, 1, 1, 1, 1, 1, 1,\n",
       "        1, 1, 1, 1, 1, 1, 1, 1, 1, 1, 1, 1, 1, 1, 1, 1, 1, 1, 1, 1, 1, 1,\n",
       "        1, 1, 1, 1, 1, 1, 1, 1, 1, 1, 1, 1, 1, 1, 1, 1, 1, 1, 1, 1, 1]])"
      ]
     },
     "execution_count": 65,
     "metadata": {},
     "output_type": "execute_result"
    }
   ],
   "source": [
    "np.array(locate_lst)"
   ]
  },
  {
   "cell_type": "code",
   "execution_count": null,
   "metadata": {},
   "outputs": [],
   "source": []
  }
 ],
 "metadata": {
  "kernelspec": {
   "display_name": "base",
   "language": "python",
   "name": "python3"
  },
  "language_info": {
   "codemirror_mode": {
    "name": "ipython",
    "version": 3
   },
   "file_extension": ".py",
   "mimetype": "text/x-python",
   "name": "python",
   "nbconvert_exporter": "python",
   "pygments_lexer": "ipython3",
   "version": "3.9.13"
  },
  "orig_nbformat": 4,
  "vscode": {
   "interpreter": {
    "hash": "263930470851f494f0ed2879c35b57985588df20f9e529b86e97dd5eb9ddc466"
   }
  }
 },
 "nbformat": 4,
 "nbformat_minor": 2
}
