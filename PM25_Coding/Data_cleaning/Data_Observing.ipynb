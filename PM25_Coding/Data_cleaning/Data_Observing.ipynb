{
 "cells": [
  {
   "cell_type": "code",
   "execution_count": 1,
   "metadata": {},
   "outputs": [],
   "source": [
    "import numpy as np\n",
    "import matplotlib.pyplot as plt\n",
    "import pandas as pd\n",
    "import os\n",
    "from datetime import datetime"
   ]
  },
  {
   "cell_type": "code",
   "execution_count": 2,
   "metadata": {},
   "outputs": [],
   "source": [
    "data_path = './PM2.5/'\n",
    "year_scope = [2017, 2018, 2019, 2020, 2021, 2022]\n",
    "os.listdir(data_path)\n",
    "data_name_lst = [name for name in os.listdir(data_path) if name.startswith('PM2.5')]"
   ]
  },
  {
   "cell_type": "code",
   "execution_count": 3,
   "metadata": {},
   "outputs": [],
   "source": [
    "selected_data_name = []\n",
    "for i in year_scope:\n",
    "    for j in data_name_lst:\n",
    "        if str(i) in j:\n",
    "            selected_data_name.append(j)"
   ]
  },
  {
   "attachments": {},
   "cell_type": "markdown",
   "metadata": {},
   "source": [
    "## Helping Functions"
   ]
  },
  {
   "cell_type": "code",
   "execution_count": 6,
   "metadata": {},
   "outputs": [],
   "source": [
    "def load_PM_data(data_path):\n",
    "    PM_data = {}\n",
    "    data_name_lst = [name for name in os.listdir(data_path) if name.startswith('PM2.5')]\n",
    "    for name in data_name_lst:\n",
    "        a_df = pd.read_excel(os.path.join(data_path, name), sheet_name='PM2.5')\n",
    "        PM_data[name.split('_')[1]] = a_df\n",
    "    return PM_data\n",
    "\n",
    "def load_selected_PM_data(data_path, selected_data_name):\n",
    "    PM_data = {}\n",
    "    data_name_lst = selected_data_name\n",
    "    for name in data_name_lst:\n",
    "        a_df = pd.read_excel(os.path.join(data_path, name), sheet_name='PM2.5')\n",
    "        PM_data[name.split('_')[1]] = a_df\n",
    "    return PM_data"
   ]
  },
  {
   "cell_type": "code",
   "execution_count": 7,
   "metadata": {},
   "outputs": [],
   "source": [
    "def check_station(ref_station, variable_station):\n",
    "    ref_columns = [1]*len(ref_station)\n",
    "    for idx, station_name in enumerate(ref_station):\n",
    "        if station_name not in variable_station:\n",
    "            ref_columns[idx] = 0\n",
    "    return ref_columns\n",
    "\n",
    "def made_locate_station(ref_name, var_name_lst, data_path):\n",
    "    locate_lst = []\n",
    "    ref_station= pd.read_excel(os.path.join(data_path, ref_name), sheet_name='station_detail')['รหัสสถานี'].to_list()\n",
    "    for idx in range(len(var_name_lst)):\n",
    "        variable_station = pd.read_excel(os.path.join(data_path, var_name_lst[idx]), sheet_name='station_detail')['รหัสสถานี'].to_list()\n",
    "        locate_lst.append(check_station(ref_station, variable_station))\n",
    "    return np.array(locate_lst), ref_station"
   ]
  },
  {
   "attachments": {},
   "cell_type": "markdown",
   "metadata": {},
   "source": [
    "## Working Space"
   ]
  },
  {
   "cell_type": "code",
   "execution_count": 4,
   "metadata": {},
   "outputs": [
    {
     "data": {
      "text/plain": [
       "['PM2.5_2017_.xlsx',\n",
       " 'PM2.5_2018_.xlsx',\n",
       " 'PM2.5_2019_.xlsx',\n",
       " 'PM2.5_2020_.xlsx',\n",
       " 'PM2.5_2021_.xlsx',\n",
       " 'PM2.5_2022_.xlsx']"
      ]
     },
     "execution_count": 4,
     "metadata": {},
     "output_type": "execute_result"
    }
   ],
   "source": [
    "selected_data_name"
   ]
  },
  {
   "attachments": {},
   "cell_type": "markdown",
   "metadata": {},
   "source": [
    "### Observing on year data"
   ]
  },
  {
   "cell_type": "code",
   "execution_count": 11,
   "metadata": {},
   "outputs": [],
   "source": [
    "locate_lst, ref_station = made_locate_station(selected_data_name[-1], selected_data_name, data_path)"
   ]
  },
  {
   "cell_type": "code",
   "execution_count": 12,
   "metadata": {},
   "outputs": [
    {
     "data": {
      "text/html": [
       "<div>\n",
       "<style scoped>\n",
       "    .dataframe tbody tr th:only-of-type {\n",
       "        vertical-align: middle;\n",
       "    }\n",
       "\n",
       "    .dataframe tbody tr th {\n",
       "        vertical-align: top;\n",
       "    }\n",
       "\n",
       "    .dataframe thead th {\n",
       "        text-align: right;\n",
       "    }\n",
       "</style>\n",
       "<table border=\"1\" class=\"dataframe\">\n",
       "  <thead>\n",
       "    <tr style=\"text-align: right;\">\n",
       "      <th></th>\n",
       "      <th>years</th>\n",
       "      <th>02T</th>\n",
       "      <th>05T</th>\n",
       "      <th>10T</th>\n",
       "      <th>11T</th>\n",
       "      <th>12T</th>\n",
       "      <th>59T</th>\n",
       "      <th>61T</th>\n",
       "      <th>03T</th>\n",
       "      <th>50T</th>\n",
       "      <th>...</th>\n",
       "      <th>98T</th>\n",
       "      <th>42T</th>\n",
       "      <th>43T</th>\n",
       "      <th>44T</th>\n",
       "      <th>62T</th>\n",
       "      <th>63T</th>\n",
       "      <th>78T</th>\n",
       "      <th>80T</th>\n",
       "      <th>89T</th>\n",
       "      <th>93T</th>\n",
       "    </tr>\n",
       "  </thead>\n",
       "  <tbody>\n",
       "    <tr>\n",
       "      <th>0</th>\n",
       "      <td>2017</td>\n",
       "      <td>0</td>\n",
       "      <td>1</td>\n",
       "      <td>0</td>\n",
       "      <td>0</td>\n",
       "      <td>0</td>\n",
       "      <td>1</td>\n",
       "      <td>1</td>\n",
       "      <td>0</td>\n",
       "      <td>1</td>\n",
       "      <td>...</td>\n",
       "      <td>0</td>\n",
       "      <td>0</td>\n",
       "      <td>0</td>\n",
       "      <td>1</td>\n",
       "      <td>1</td>\n",
       "      <td>1</td>\n",
       "      <td>0</td>\n",
       "      <td>1</td>\n",
       "      <td>0</td>\n",
       "      <td>0</td>\n",
       "    </tr>\n",
       "    <tr>\n",
       "      <th>1</th>\n",
       "      <td>2018</td>\n",
       "      <td>0</td>\n",
       "      <td>1</td>\n",
       "      <td>1</td>\n",
       "      <td>1</td>\n",
       "      <td>0</td>\n",
       "      <td>1</td>\n",
       "      <td>1</td>\n",
       "      <td>1</td>\n",
       "      <td>1</td>\n",
       "      <td>...</td>\n",
       "      <td>0</td>\n",
       "      <td>1</td>\n",
       "      <td>0</td>\n",
       "      <td>1</td>\n",
       "      <td>1</td>\n",
       "      <td>1</td>\n",
       "      <td>0</td>\n",
       "      <td>1</td>\n",
       "      <td>0</td>\n",
       "      <td>0</td>\n",
       "    </tr>\n",
       "    <tr>\n",
       "      <th>2</th>\n",
       "      <td>2019</td>\n",
       "      <td>1</td>\n",
       "      <td>1</td>\n",
       "      <td>1</td>\n",
       "      <td>1</td>\n",
       "      <td>1</td>\n",
       "      <td>1</td>\n",
       "      <td>1</td>\n",
       "      <td>1</td>\n",
       "      <td>1</td>\n",
       "      <td>...</td>\n",
       "      <td>0</td>\n",
       "      <td>1</td>\n",
       "      <td>1</td>\n",
       "      <td>1</td>\n",
       "      <td>1</td>\n",
       "      <td>1</td>\n",
       "      <td>1</td>\n",
       "      <td>1</td>\n",
       "      <td>0</td>\n",
       "      <td>0</td>\n",
       "    </tr>\n",
       "    <tr>\n",
       "      <th>3</th>\n",
       "      <td>2020</td>\n",
       "      <td>1</td>\n",
       "      <td>1</td>\n",
       "      <td>1</td>\n",
       "      <td>1</td>\n",
       "      <td>1</td>\n",
       "      <td>1</td>\n",
       "      <td>1</td>\n",
       "      <td>1</td>\n",
       "      <td>1</td>\n",
       "      <td>...</td>\n",
       "      <td>0</td>\n",
       "      <td>1</td>\n",
       "      <td>1</td>\n",
       "      <td>1</td>\n",
       "      <td>1</td>\n",
       "      <td>1</td>\n",
       "      <td>1</td>\n",
       "      <td>1</td>\n",
       "      <td>0</td>\n",
       "      <td>0</td>\n",
       "    </tr>\n",
       "    <tr>\n",
       "      <th>4</th>\n",
       "      <td>2021</td>\n",
       "      <td>1</td>\n",
       "      <td>1</td>\n",
       "      <td>1</td>\n",
       "      <td>1</td>\n",
       "      <td>1</td>\n",
       "      <td>1</td>\n",
       "      <td>1</td>\n",
       "      <td>1</td>\n",
       "      <td>1</td>\n",
       "      <td>...</td>\n",
       "      <td>0</td>\n",
       "      <td>1</td>\n",
       "      <td>1</td>\n",
       "      <td>1</td>\n",
       "      <td>1</td>\n",
       "      <td>1</td>\n",
       "      <td>1</td>\n",
       "      <td>1</td>\n",
       "      <td>1</td>\n",
       "      <td>1</td>\n",
       "    </tr>\n",
       "    <tr>\n",
       "      <th>5</th>\n",
       "      <td>2022</td>\n",
       "      <td>1</td>\n",
       "      <td>1</td>\n",
       "      <td>1</td>\n",
       "      <td>1</td>\n",
       "      <td>1</td>\n",
       "      <td>1</td>\n",
       "      <td>1</td>\n",
       "      <td>1</td>\n",
       "      <td>1</td>\n",
       "      <td>...</td>\n",
       "      <td>1</td>\n",
       "      <td>1</td>\n",
       "      <td>1</td>\n",
       "      <td>1</td>\n",
       "      <td>1</td>\n",
       "      <td>1</td>\n",
       "      <td>1</td>\n",
       "      <td>1</td>\n",
       "      <td>1</td>\n",
       "      <td>1</td>\n",
       "    </tr>\n",
       "  </tbody>\n",
       "</table>\n",
       "<p>6 rows × 87 columns</p>\n",
       "</div>"
      ],
      "text/plain": [
       "   years  02T  05T  10T  11T  12T  59T  61T  03T  50T  ...  98T  42T  43T  \\\n",
       "0   2017    0    1    0    0    0    1    1    0    1  ...    0    0    0   \n",
       "1   2018    0    1    1    1    0    1    1    1    1  ...    0    1    0   \n",
       "2   2019    1    1    1    1    1    1    1    1    1  ...    0    1    1   \n",
       "3   2020    1    1    1    1    1    1    1    1    1  ...    0    1    1   \n",
       "4   2021    1    1    1    1    1    1    1    1    1  ...    0    1    1   \n",
       "5   2022    1    1    1    1    1    1    1    1    1  ...    1    1    1   \n",
       "\n",
       "   44T  62T  63T  78T  80T  89T  93T  \n",
       "0    1    1    1    0    1    0    0  \n",
       "1    1    1    1    0    1    0    0  \n",
       "2    1    1    1    1    1    0    0  \n",
       "3    1    1    1    1    1    0    0  \n",
       "4    1    1    1    1    1    1    1  \n",
       "5    1    1    1    1    1    1    1  \n",
       "\n",
       "[6 rows x 87 columns]"
      ]
     },
     "execution_count": 12,
     "metadata": {},
     "output_type": "execute_result"
    }
   ],
   "source": [
    "df = pd.DataFrame(locate_lst, columns=ref_station)\n",
    "df_year = pd.DataFrame(year_scope, columns=['years'])\n",
    "df = df_year.join(df)\n",
    "df = df.loc[:,~df.columns.duplicated()].copy()\n",
    "df"
   ]
  },
  {
   "attachments": {},
   "cell_type": "markdown",
   "metadata": {},
   "source": [
    "### Observing on the provide"
   ]
  },
  {
   "cell_type": "code",
   "execution_count": 49,
   "metadata": {},
   "outputs": [
    {
     "name": "stdout",
     "output_type": "stream",
     "text": [
      "PM2.5_2022_.xlsx\n"
     ]
    }
   ],
   "source": [
    "ref_name = selected_data_name[5]\n",
    "print(ref_name)"
   ]
  },
  {
   "cell_type": "code",
   "execution_count": 50,
   "metadata": {},
   "outputs": [
    {
     "data": {
      "text/html": [
       "<div>\n",
       "<style scoped>\n",
       "    .dataframe tbody tr th:only-of-type {\n",
       "        vertical-align: middle;\n",
       "    }\n",
       "\n",
       "    .dataframe tbody tr th {\n",
       "        vertical-align: top;\n",
       "    }\n",
       "\n",
       "    .dataframe thead th {\n",
       "        text-align: right;\n",
       "    }\n",
       "</style>\n",
       "<table border=\"1\" class=\"dataframe\">\n",
       "  <thead>\n",
       "    <tr style=\"text-align: right;\">\n",
       "      <th></th>\n",
       "      <th>รหัสสถานี</th>\n",
       "      <th>ชื่อสถานี</th>\n",
       "      <th>รายละเอียดจุดติดตั้งสถานี</th>\n",
       "    </tr>\n",
       "  </thead>\n",
       "  <tbody>\n",
       "    <tr>\n",
       "      <th>0</th>\n",
       "      <td>02T</td>\n",
       "      <td>แขวงหิรัญรูจี เขตธนบุรี กทม.</td>\n",
       "      <td>มหาวิทยาลัยราชภัฏบ้านสมเด็จเจ้าพระยา</td>\n",
       "    </tr>\n",
       "    <tr>\n",
       "      <th>1</th>\n",
       "      <td>05T</td>\n",
       "      <td>แขวงบางนา เขตบางนา กทม.</td>\n",
       "      <td>กรมอุตุนิยมวิทยา</td>\n",
       "    </tr>\n",
       "    <tr>\n",
       "      <th>2</th>\n",
       "      <td>10T</td>\n",
       "      <td>แขวงคลองจั่น เขตบางกะปิ กทม.</td>\n",
       "      <td>เคหะชุมชนคลองจั่น</td>\n",
       "    </tr>\n",
       "    <tr>\n",
       "      <th>3</th>\n",
       "      <td>11T</td>\n",
       "      <td>แขวงดินแดง เขตดินแดง กทม.</td>\n",
       "      <td>สนามกีฬาเคหะชุมชนห้วยขวาง</td>\n",
       "    </tr>\n",
       "    <tr>\n",
       "      <th>4</th>\n",
       "      <td>12T</td>\n",
       "      <td>แขวงช่องนนทรี เขตยานนาวา กทม.</td>\n",
       "      <td>โรงเรียนนนทรีวิทยา</td>\n",
       "    </tr>\n",
       "  </tbody>\n",
       "</table>\n",
       "</div>"
      ],
      "text/plain": [
       "  รหัสสถานี                      ชื่อสถานี  \\\n",
       "0       02T   แขวงหิรัญรูจี เขตธนบุรี กทม.   \n",
       "1       05T        แขวงบางนา เขตบางนา กทม.   \n",
       "2       10T   แขวงคลองจั่น เขตบางกะปิ กทม.   \n",
       "3       11T      แขวงดินแดง เขตดินแดง กทม.   \n",
       "4       12T  แขวงช่องนนทรี เขตยานนาวา กทม.   \n",
       "\n",
       "              รายละเอียดจุดติดตั้งสถานี  \n",
       "0  มหาวิทยาลัยราชภัฏบ้านสมเด็จเจ้าพระยา  \n",
       "1                      กรมอุตุนิยมวิทยา  \n",
       "2                     เคหะชุมชนคลองจั่น  \n",
       "3             สนามกีฬาเคหะชุมชนห้วยขวาง  \n",
       "4                    โรงเรียนนนทรีวิทยา  "
      ]
     },
     "execution_count": 50,
     "metadata": {},
     "output_type": "execute_result"
    }
   ],
   "source": [
    "ref_station = pd.read_excel(os.path.join(data_path, ref_name), sheet_name='station_detail')\n",
    "ref_station.head()"
   ]
  },
  {
   "cell_type": "code",
   "execution_count": 84,
   "metadata": {},
   "outputs": [],
   "source": [
    "def made_provide_station(selected_data_name, data_path):\n",
    "    df = pd.DataFrame(columns=['station_id', 'station_name'])\n",
    "    for file_name in selected_data_name:\n",
    "        station_detail = pd.read_excel(os.path.join(data_path, file_name), sheet_name='station_detail')\n",
    "        select_detail = station_detail.copy()[['รหัสสถานี', 'ชื่อสถานี']].rename(columns={'รหัสสถานี':'station_id', 'ชื่อสถานี':'station_name'})\n",
    "        df = pd.concat([df, select_detail], axis=0)\n",
    "        df['station_name'] = df['station_name'].apply(lambda x: x.split(' ')[-1])\n",
    "    df = df.drop_duplicates(subset=['station_id']).reset_index().drop(columns=['index'])\n",
    "    return df"
   ]
  },
  {
   "cell_type": "code",
   "execution_count": 85,
   "metadata": {},
   "outputs": [],
   "source": [
    "provide_station_df = made_provide_station(selected_data_name, data_path)"
   ]
  },
  {
   "cell_type": "code",
   "execution_count": 96,
   "metadata": {},
   "outputs": [],
   "source": [
    "provide_uqe = np.unique(provide_station_df['station_name'].to_numpy())\n",
    "label_uqe = np.arange(provide_uqe.shape[0])\n",
    "provide_dict = {provide_uqe[i]:label_uqe[i] for i in range(label_uqe.shape[0])}"
   ]
  },
  {
   "cell_type": "code",
   "execution_count": 97,
   "metadata": {},
   "outputs": [],
   "source": [
    "provide_station_df['provide_label'] = provide_station_df['station_name'].apply(lambda x: provide_dict[x])"
   ]
  },
  {
   "cell_type": "code",
   "execution_count": 109,
   "metadata": {},
   "outputs": [],
   "source": [
    "provide_station_df.sort_values(['provide_label'])"
   ]
  },
  {
   "cell_type": "code",
   "execution_count": 108,
   "metadata": {},
   "outputs": [],
   "source": [
    "# provide_station_df.to_csv('./Clean_Data/check_station_per_provide.csv', index=False, encoding='UTF-8')"
   ]
  },
  {
   "cell_type": "code",
   "execution_count": null,
   "metadata": {},
   "outputs": [],
   "source": []
  }
 ],
 "metadata": {
  "kernelspec": {
   "display_name": "base",
   "language": "python",
   "name": "python3"
  },
  "language_info": {
   "codemirror_mode": {
    "name": "ipython",
    "version": 3
   },
   "file_extension": ".py",
   "mimetype": "text/x-python",
   "name": "python",
   "nbconvert_exporter": "python",
   "pygments_lexer": "ipython3",
   "version": "3.9.13"
  },
  "orig_nbformat": 4,
  "vscode": {
   "interpreter": {
    "hash": "263930470851f494f0ed2879c35b57985588df20f9e529b86e97dd5eb9ddc466"
   }
  }
 },
 "nbformat": 4,
 "nbformat_minor": 2
}
